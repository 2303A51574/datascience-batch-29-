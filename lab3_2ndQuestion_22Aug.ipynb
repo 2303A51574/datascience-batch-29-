{
  "nbformat": 4,
  "nbformat_minor": 0,
  "metadata": {
    "colab": {
      "provenance": [],
      "authorship_tag": "ABX9TyMJCqCV/7PupVBVHzFZvrWq",
      "include_colab_link": true
    },
    "kernelspec": {
      "name": "python3",
      "display_name": "Python 3"
    },
    "language_info": {
      "name": "python"
    }
  },
  "cells": [
    {
      "cell_type": "markdown",
      "metadata": {
        "id": "view-in-github",
        "colab_type": "text"
      },
      "source": [
        "<a href=\"https://colab.research.google.com/github/2303A51574/datascience-batch-29-/blob/main/lab3_2ndQuestion_22Aug.ipynb\" target=\"_parent\"><img src=\"https://colab.research.google.com/assets/colab-badge.svg\" alt=\"Open In Colab\"/></a>"
      ]
    },
    {
      "cell_type": "code",
      "execution_count": 1,
      "metadata": {
        "id": "ziRHdNBUH4zn"
      },
      "outputs": [],
      "source": [
        "import numpy as np\n",
        "import matplotlib.pyplot as plt"
      ]
    },
    {
      "cell_type": "code",
      "source": [
        "# Create random pixel values between 0–255\n",
        "image = np.random.randint(0, 256, (3, 3, 3), dtype=np.uint8)\n",
        "print(\"Original Image Matrix:\\n\", image)"
      ],
      "metadata": {
        "colab": {
          "base_uri": "https://localhost:8080/"
        },
        "id": "jBtxDgpJIxDY",
        "outputId": "28ca140c-ea10-45a9-9b6e-8cd24575be53"
      },
      "execution_count": 2,
      "outputs": [
        {
          "output_type": "stream",
          "name": "stdout",
          "text": [
            "Original Image Matrix:\n",
            " [[[244  91 229]\n",
            "  [138 100 173]\n",
            "  [146  38 123]]\n",
            "\n",
            " [[  0  45 112]\n",
            "  [221 144 223]\n",
            "  [ 91  68 100]]\n",
            "\n",
            " [[ 64 106 206]\n",
            "  [ 29 227  45]\n",
            "  [223 204  50]]]\n"
          ]
        }
      ]
    },
    {
      "cell_type": "code",
      "source": [
        "red_channel   = image[:, :, 0]\n",
        "green_channel = image[:, :, 1]\n",
        "blue_channel  = image[:, :, 2]\n",
        "\n",
        "print(\"\\nRed Channel:\\n\", red_channel)\n",
        "print(\"\\nGreen Channel:\\n\", green_channel)\n",
        "print(\"\\nBlue Channel:\\n\", blue_channel)"
      ],
      "metadata": {
        "colab": {
          "base_uri": "https://localhost:8080/"
        },
        "id": "9RiA6ScHI2na",
        "outputId": "aeb27ef8-0d35-4078-96ee-fc2c2eaf5d9a"
      },
      "execution_count": 3,
      "outputs": [
        {
          "output_type": "stream",
          "name": "stdout",
          "text": [
            "\n",
            "Red Channel:\n",
            " [[244 138 146]\n",
            " [  0 221  91]\n",
            " [ 64  29 223]]\n",
            "\n",
            "Green Channel:\n",
            " [[ 91 100  38]\n",
            " [ 45 144  68]\n",
            " [106 227 204]]\n",
            "\n",
            "Blue Channel:\n",
            " [[229 173 123]\n",
            " [112 223 100]\n",
            " [206  45  50]]\n"
          ]
        }
      ]
    },
    {
      "cell_type": "code",
      "source": [
        "red_channel   = image[:, :, 0]\n",
        "green_channel = image[:, :, 1]\n",
        "blue_channel  = image[:, :, 2]\n",
        "\n",
        "print(\"\\nRed Channel:\\n\", red_channel)\n",
        "print(\"\\nGreen Channel:\\n\", green_channel)\n",
        "print(\"\\nBlue Channel:\\n\", blue_channel)"
      ],
      "metadata": {
        "colab": {
          "base_uri": "https://localhost:8080/"
        },
        "id": "q16iuPWrJAZm",
        "outputId": "08cb576e-46a4-4290-bb1e-17db9c18d0ff"
      },
      "execution_count": 4,
      "outputs": [
        {
          "output_type": "stream",
          "name": "stdout",
          "text": [
            "\n",
            "Red Channel:\n",
            " [[244 138 146]\n",
            " [  0 221  91]\n",
            " [ 64  29 223]]\n",
            "\n",
            "Green Channel:\n",
            " [[ 91 100  38]\n",
            " [ 45 144  68]\n",
            " [106 227 204]]\n",
            "\n",
            "Blue Channel:\n",
            " [[229 173 123]\n",
            " [112 223 100]\n",
            " [206  45  50]]\n"
          ]
        }
      ]
    },
    {
      "cell_type": "code",
      "source": [
        "avg_red   = np.mean(red_channel)\n",
        "avg_green = np.mean(green_channel)\n",
        "avg_blue  = np.mean(blue_channel)\n",
        "\n",
        "print(\"\\nAverage Intensities:\")\n",
        "print(f\"Red: {avg_red:.2f}, Green: {avg_green:.2f}, Blue: {avg_blue:.2f}\")"
      ],
      "metadata": {
        "colab": {
          "base_uri": "https://localhost:8080/"
        },
        "id": "QRMGVrYRJL9G",
        "outputId": "10f98ca8-7db5-4166-efb9-a4cdea0db5e8"
      },
      "execution_count": 5,
      "outputs": [
        {
          "output_type": "stream",
          "name": "stdout",
          "text": [
            "\n",
            "Average Intensities:\n",
            "Red: 128.44, Green: 113.67, Blue: 140.11\n"
          ]
        }
      ]
    },
    {
      "cell_type": "code",
      "source": [
        "brightened_image = np.clip(image + 50, 0, 255)\n",
        "print(\"\\nBrightened Image Matrix:\\n\", brightened_image)"
      ],
      "metadata": {
        "colab": {
          "base_uri": "https://localhost:8080/"
        },
        "id": "VRcsN-EpJQgn",
        "outputId": "54fa8860-c5d2-4c2a-8ed2-b0d2f137f955"
      },
      "execution_count": 6,
      "outputs": [
        {
          "output_type": "stream",
          "name": "stdout",
          "text": [
            "\n",
            "Brightened Image Matrix:\n",
            " [[[ 38 141  23]\n",
            "  [188 150 223]\n",
            "  [196  88 173]]\n",
            "\n",
            " [[ 50  95 162]\n",
            "  [ 15 194  17]\n",
            "  [141 118 150]]\n",
            "\n",
            " [[114 156   0]\n",
            "  [ 79  21  95]\n",
            "  [ 17 254 100]]]\n"
          ]
        }
      ]
    },
    {
      "cell_type": "code",
      "source": [
        "# Display as image\n",
        "plt.subplot(1, 2, 1)\n",
        "plt.imshow(image)\n",
        "plt.title(\"Original Image\")\n",
        "plt.axis('off')\n",
        "\n",
        "plt.subplot(1, 2, 2)\n",
        "plt.imshow(brightened_image)\n",
        "plt.title(\"Brightened Image\")\n",
        "plt.axis('off')\n",
        "\n",
        "plt.show()"
      ],
      "metadata": {
        "colab": {
          "base_uri": "https://localhost:8080/",
          "height": 284
        },
        "id": "EswBF5phJXxS",
        "outputId": "531119c8-2d8b-4c2d-a5de-26409d8265bf"
      },
      "execution_count": 7,
      "outputs": [
        {
          "output_type": "display_data",
          "data": {
            "text/plain": [
              "<Figure size 640x480 with 2 Axes>"
            ],
            "image/png": "[encoded data removed]"
          },
          "metadata": {}
        }
      ]
    },
    {
      "cell_type": "code",
      "source": [
        "plt.figure(figsize=(8, 3))\n",
        "\n",
        "plt.subplot(1, 3, 1)\n",
        "plt.imshow(red_channel, cmap='Reds')\n",
        "plt.title(\"Red Channel\")\n",
        "plt.axis('off')\n",
        "\n",
        "plt.subplot(1, 3, 2)\n",
        "plt.imshow(green_channel, cmap='Greens')\n",
        "plt.title(\"Green Channel\")\n",
        "plt.axis('off')\n",
        "\n",
        "plt.subplot(1, 3, 3)\n",
        "plt.imshow(blue_channel, cmap='Blues')\n",
        "plt.title(\"Blue Channel\")\n",
        "plt.axis('off')\n",
        "\n",
        "plt.show()"
      ],
      "metadata": {
        "colab": {
          "base_uri": "https://localhost:8080/",
          "height": 241
        },
        "id": "VxgGuppMJZp7",
        "outputId": "d4a0c88c-f4b9-4394-d364-b8d1c36e50f4"
      },
      "execution_count": 8,
      "outputs": [
        {
          "output_type": "display_data",
          "data": {
            "text/plain": [
              "<Figure size 800x300 with 3 Axes>"
            ],
            "image/png": "[encoded data removed]"
          },
          "metadata": {}
        }
      ]
    }
  ]
}